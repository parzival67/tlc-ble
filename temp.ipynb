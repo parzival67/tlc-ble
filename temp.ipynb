{
 "cells": [
  {
   "cell_type": "code",
   "execution_count": null,
   "metadata": {},
   "outputs": [],
   "source": [
    "import asyncio\n",
    "import nest_asyncio\n",
    "from bleak import BleakClient\n",
    "\n",
    "nest_asyncio.apply()\n",
    "\n",
    "async def notification_handler(sender: int, data: bytearray):\n",
    "    decoded_data = data.decode('utf-8')\n",
    "    print(f\"Measured value: {decoded_data}\")\n",
    "\n",
    "async def monitor_data(address):\n",
    "    async with BleakClient(address) as client:\n",
    "        service_uuid = \"6e400001-b5a3-f393-e0a9-e50e24dcca9e\"\n",
    "        characteristic_uuid = \"6e400003-b5a3-f393-e0a9-e50e24dcca9e\"\n",
    "        await client.start_notify(characteristic_uuid, notification_handler)\n",
    "\n",
    "        try:\n",
    "            while True:\n",
    "                # The loop will be triggered when a notification is received\n",
    "                await asyncio.sleep(1)  # Adjust the sleep interval as needed\n",
    "\n",
    "        except Exception as e:\n",
    "            print(f\"Error monitoring data: {e}\")\n",
    "\n",
    "if __name__ == \"__main__\":\n",
    "    device_address = \"FC:2C:30:13:A0:45\"\n",
    "    \n",
    "    # Run the event loop\n",
    "    loop = asyncio.get_event_loop()\n",
    "    loop.run_until_complete(monitor_data(device_address))"
   ]
  },
  {
   "cell_type": "code",
   "execution_count": null,
   "metadata": {},
   "outputs": [],
   "source": [
    "import ezdxf\n",
    "\n",
    "def list_dimensions(file_path):\n",
    "    doc = ezdxf.readfile(file_path)\n",
    "    modelspace = doc.modelspace()\n",
    "\n",
    "    dimensions = []\n",
    "    \n",
    "    for entity in modelspace.query('DIMENSION'):\n",
    "        dimensions.append(entity.dxf.get_dxf_attrib)\n",
    "\n",
    "    return dimensions\n",
    "\n",
    "if __name__ == \"__main__\":\n",
    "    dxf_file_path = \"part.dxf\"\n",
    "    dimension_list = list_dimensions(dxf_file_path)\n",
    "\n",
    "    print(\"Dimensions:\")\n",
    "    for idx, dim_text in enumerate(dimension_list, start=1):\n",
    "        print(f\"{idx}. {dim_text}\")\n"
   ]
  },
  {
   "cell_type": "code",
   "execution_count": null,
   "metadata": {},
   "outputs": [],
   "source": [
    "import ezdxf\n",
    "\n",
    "def print_all_attributes(entity):\n",
    "    entity_type = entity.dxftype()\n",
    "    \n",
    "    if entity_type == 'DIMENSION':\n",
    "        print(f\"Entity Type: {entity_type}\")\n",
    "        try:\n",
    "            attributes = entity.get_dxf_attrib('actual_measurement')\n",
    "        except ezdxf.DXFAttributeError:\n",
    "            print(\"No DXF attributes found for this dimension entity.\")\n",
    "\n",
    "def read_dxf_file(file_path):\n",
    "    doc = ezdxf.readfile(file_path)\n",
    "    \n",
    "    for entity in doc.modelspace().query('*'):\n",
    "        print_all_attributes(entity)\n",
    "\n",
    "if __name__ == \"__main__\":\n",
    "    dxf_file_path = \"part.dxf\"  # Replace with the actual path to your DXF file\n",
    "    read_dxf_file(dxf_file_path)\n"
   ]
  },
  {
   "cell_type": "code",
   "execution_count": 14,
   "metadata": {},
   "outputs": [
    {
     "name": "stdout",
     "output_type": "stream",
     "text": [
      "[('174', 39.961524), ('182', 20.0), ('18C', 8.0), ('198', 52.0), ('1A1', 4.0), ('1AD', 8.0), ('1B9', 50.0), ('1C3', 39.961524)]\n"
     ]
    }
   ],
   "source": [
    "import ezdxf\n",
    "\n",
    "def read_dxf_file(file_path):\n",
    "    dim = []\n",
    "    doc = ezdxf.readfile(file_path)\n",
    "    for entity in doc.modelspace().query('*'):\n",
    "        entity_type = entity.dxftype()\n",
    "        if entity_type == 'DIMENSION':\n",
    "            dim += [(entity.get_dxf_attrib('handle'), entity.get_dxf_attrib('actual_measurement'))]\n",
    "            #print(f\"DIM: {entity.get_dxf_attrib('handle')}, {entity.get_dxf_attrib('actual_measurement')}\")\n",
    "    return dim\n",
    "\n",
    "if __name__ == \"__main__\":\n",
    "    dxf_file_path = \"part.dxf\"  # Replace with the actual path to your DXF file\n",
    "    dimensions = read_dxf_file(dxf_file_path)\n",
    "    print(dimensions)\n"
   ]
  }
 ],
 "metadata": {
  "kernelspec": {
   "display_name": "Python 3",
   "language": "python",
   "name": "python3"
  },
  "language_info": {
   "codemirror_mode": {
    "name": "ipython",
    "version": 3
   },
   "file_extension": ".py",
   "mimetype": "text/x-python",
   "name": "python",
   "nbconvert_exporter": "python",
   "pygments_lexer": "ipython3",
   "version": "3.11.6"
  }
 },
 "nbformat": 4,
 "nbformat_minor": 2
}
